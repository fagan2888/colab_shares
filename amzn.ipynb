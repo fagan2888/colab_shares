{
  "nbformat": 4,
  "nbformat_minor": 0,
  "metadata": {
    "colab": {
      "name": "amzn.ipynb",
      "provenance": [],
      "collapsed_sections": [],
      "authorship_tag": "ABX9TyPkhXa6B1MoUazT3PhSift7",
      "include_colab_link": true
    },
    "kernelspec": {
      "name": "python3",
      "display_name": "Python 3"
    }
  },
  "cells": [
    {
      "cell_type": "markdown",
      "metadata": {
        "id": "view-in-github",
        "colab_type": "text"
      },
      "source": [
        "<a href=\"https://colab.research.google.com/github/jus-tinian/colab_shares/blob/master/amzn.ipynb\" target=\"_parent\"><img src=\"https://colab.research.google.com/assets/colab-badge.svg\" alt=\"Open In Colab\"/></a>"
      ]
    },
    {
      "cell_type": "code",
      "metadata": {
        "id": "XBkspFh2J2HO",
        "colab_type": "code",
        "colab": {}
      },
      "source": [
        "import pandas as pd\n",
        "import requests\n",
        "from bs4 import BeautifulSoup\n",
        "from IPython.display import HTML"
      ],
      "execution_count": 0,
      "outputs": []
    },
    {
      "cell_type": "code",
      "metadata": {
        "id": "Qq9ih7tvWDLf",
        "colab_type": "code",
        "colab": {}
      },
      "source": [
        "def get_soup(link):\n",
        "\n",
        "  page = requests.get(link)\n",
        "  soup = BeautifulSoup(page.text, 'html.parser')\n",
        "\n",
        "  return soup"
      ],
      "execution_count": 0,
      "outputs": []
    },
    {
      "cell_type": "code",
      "metadata": {
        "id": "viJiXOVNW-wK",
        "colab_type": "code",
        "colab": {}
      },
      "source": [
        "def get_tags(soupy_tags):\n",
        "\n",
        "  tags = list()\n",
        "\n",
        "  for tag in soupy_tags.find_all():\n",
        "    tags.append(tag.name)\n",
        "\n",
        "  tags = list(set(tags))\n",
        "\n",
        "  return tags"
      ],
      "execution_count": 0,
      "outputs": []
    },
    {
      "cell_type": "code",
      "metadata": {
        "id": "Vp-zsKXfP1cL",
        "colab_type": "code",
        "colab": {}
      },
      "source": [
        "def make_link(linky_text):\n",
        "  return f'<a target=\"_blank\" href=\"{linky_text}\">Link</a>'"
      ],
      "execution_count": 0,
      "outputs": []
    },
    {
      "cell_type": "code",
      "metadata": {
        "id": "IZyZ-iLHX0qO",
        "colab_type": "code",
        "colab": {}
      },
      "source": [
        "def find_xml(soup_field):\n",
        "\n",
        "  xml = ''.join(['https://www.sec.gov' + i.attrs['href'] for i in soup_field.find_all('a') if '_htm.xml' in i.text])\n",
        "\n",
        "  if xml == '':\n",
        "    xml = ''.join(['https://www.sec.gov' + i.find_next('a').attrs['href'] for i in soup_field.find_all('td') if i.text == 'XBRL INSTANCE DOCUMENT'])\n",
        "\n",
        "  return xml"
      ],
      "execution_count": 0,
      "outputs": []
    },
    {
      "cell_type": "code",
      "metadata": {
        "id": "-2SnplLvJa_0",
        "colab_type": "code",
        "colab": {}
      },
      "source": [
        "# getting 10Ks\n",
        "historical = 'https://www.sec.gov/cgi-bin/browse-edgar?action=getcompany&CIK=0001018724&type=10-K&dateb=&owner=exclude&output=xml&count=100'"
      ],
      "execution_count": 0,
      "outputs": []
    },
    {
      "cell_type": "code",
      "metadata": {
        "id": "UtA-IiwRJipV",
        "colab_type": "code",
        "colab": {}
      },
      "source": [
        "historical = get_soup(historical)"
      ],
      "execution_count": 0,
      "outputs": []
    },
    {
      "cell_type": "code",
      "metadata": {
        "id": "pNLKIN2bMWPg",
        "colab_type": "code",
        "outputId": "fb1e6846-79aa-4fd3-f883-ffc150019aff",
        "colab": {
          "base_uri": "https://localhost:8080/",
          "height": 34
        }
      },
      "source": [
        "company = [i.text for i in historical.find_all('name')]\n",
        "company"
      ],
      "execution_count": 8,
      "outputs": [
        {
          "output_type": "execute_result",
          "data": {
            "text/plain": [
              "['AMAZON COM INC']"
            ]
          },
          "metadata": {
            "tags": []
          },
          "execution_count": 8
        }
      ]
    },
    {
      "cell_type": "code",
      "metadata": {
        "id": "sey4evPZKdPx",
        "colab_type": "code",
        "colab": {}
      },
      "source": [
        "hrefs = [i.text for i in historical.find_all('filinghref')]"
      ],
      "execution_count": 0,
      "outputs": []
    },
    {
      "cell_type": "code",
      "metadata": {
        "id": "8LPJwWVULiOJ",
        "colab_type": "code",
        "colab": {}
      },
      "source": [
        "dates = [i.text for i in historical.find_all('datefiled')]"
      ],
      "execution_count": 0,
      "outputs": []
    },
    {
      "cell_type": "code",
      "metadata": {
        "id": "aOwMiZQlMOYJ",
        "colab_type": "code",
        "colab": {}
      },
      "source": [
        "filing = [i.text for i in historical.find_all('type')]"
      ],
      "execution_count": 0,
      "outputs": []
    },
    {
      "cell_type": "code",
      "metadata": {
        "id": "sFdyxL27MjOD",
        "colab_type": "code",
        "colab": {}
      },
      "source": [
        "desc = [i.text for i in historical.find_all('sicdescription')]"
      ],
      "execution_count": 0,
      "outputs": []
    },
    {
      "cell_type": "code",
      "metadata": {
        "id": "awmrDHNQMyYA",
        "colab_type": "code",
        "colab": {}
      },
      "source": [
        "data = pd.DataFrame({'Type': filing, 'Date': dates, 'Full_Report': hrefs})"
      ],
      "execution_count": 0,
      "outputs": []
    },
    {
      "cell_type": "code",
      "metadata": {
        "id": "byqgAF83RHFO",
        "colab_type": "code",
        "colab": {}
      },
      "source": [
        "data = data.loc[data.Type == '10-K', :].iloc[:5]"
      ],
      "execution_count": 0,
      "outputs": []
    },
    {
      "cell_type": "code",
      "metadata": {
        "id": "sadHcaN7X-ir",
        "colab_type": "code",
        "colab": {}
      },
      "source": [
        "data['XML'] = data.Full_Report.copy().apply(get_soup).apply(find_xml)"
      ],
      "execution_count": 0,
      "outputs": []
    },
    {
      "cell_type": "code",
      "metadata": {
        "id": "9pI9yVv8cUK7",
        "colab_type": "code",
        "colab": {}
      },
      "source": [
        "dataMod = data.copy()"
      ],
      "execution_count": 0,
      "outputs": []
    },
    {
      "cell_type": "code",
      "metadata": {
        "id": "7n2MCUH2ce5-",
        "colab_type": "code",
        "colab": {}
      },
      "source": [
        "dataMod['Full_Report'] = dataMod['Full_Report'].apply(make_link)"
      ],
      "execution_count": 0,
      "outputs": []
    },
    {
      "cell_type": "code",
      "metadata": {
        "id": "s1QX0MoTdI2V",
        "colab_type": "code",
        "colab": {}
      },
      "source": [
        "dataMod['XML'] = dataMod['XML'].apply(make_link)"
      ],
      "execution_count": 0,
      "outputs": []
    },
    {
      "cell_type": "code",
      "metadata": {
        "id": "uRI1z1sTeOqT",
        "colab_type": "code",
        "colab": {}
      },
      "source": [
        "dataMod = dataMod.head()"
      ],
      "execution_count": 0,
      "outputs": []
    },
    {
      "cell_type": "code",
      "metadata": {
        "id": "AV8POAecdKcu",
        "colab_type": "code",
        "colab": {
          "base_uri": "https://localhost:8080/",
          "height": 206
        },
        "outputId": "8fab1d76-6b20-4618-ab4d-ef295ff6942c"
      },
      "source": [
        "display(HTML(dataMod.to_html(escape=False)))"
      ],
      "execution_count": 20,
      "outputs": [
        {
          "output_type": "display_data",
          "data": {
            "text/html": [
              "<table border=\"1\" class=\"dataframe\">\n",
              "  <thead>\n",
              "    <tr style=\"text-align: right;\">\n",
              "      <th></th>\n",
              "      <th>Type</th>\n",
              "      <th>Date</th>\n",
              "      <th>Full_Report</th>\n",
              "      <th>XML</th>\n",
              "    </tr>\n",
              "  </thead>\n",
              "  <tbody>\n",
              "    <tr>\n",
              "      <th>0</th>\n",
              "      <td>10-K</td>\n",
              "      <td>2020-01-31</td>\n",
              "      <td><a target=\"_blank\" href=\"https://www.sec.gov/Archives/edgar/data/1018724/000101872420000004/0001018724-20-000004-index.htm\">Link</a></td>\n",
              "      <td><a target=\"_blank\" href=\"https://www.sec.gov/Archives/edgar/data/1018724/000101872420000004/amzn-20191231x10k_htm.xml\">Link</a></td>\n",
              "    </tr>\n",
              "    <tr>\n",
              "      <th>1</th>\n",
              "      <td>10-K</td>\n",
              "      <td>2019-02-01</td>\n",
              "      <td><a target=\"_blank\" href=\"https://www.sec.gov/Archives/edgar/data/1018724/000101872419000004/0001018724-19-000004-index.htm\">Link</a></td>\n",
              "      <td><a target=\"_blank\" href=\"https://www.sec.gov/Archives/edgar/data/1018724/000101872419000004/amzn-20181231.xml\">Link</a></td>\n",
              "    </tr>\n",
              "    <tr>\n",
              "      <th>2</th>\n",
              "      <td>10-K</td>\n",
              "      <td>2018-02-02</td>\n",
              "      <td><a target=\"_blank\" href=\"https://www.sec.gov/Archives/edgar/data/1018724/000101872418000005/0001018724-18-000005-index.htm\">Link</a></td>\n",
              "      <td><a target=\"_blank\" href=\"https://www.sec.gov/Archives/edgar/data/1018724/000101872418000005/amzn-20171231.xml\">Link</a></td>\n",
              "    </tr>\n",
              "    <tr>\n",
              "      <th>3</th>\n",
              "      <td>10-K</td>\n",
              "      <td>2017-02-10</td>\n",
              "      <td><a target=\"_blank\" href=\"https://www.sec.gov/Archives/edgar/data/1018724/000101872417000011/0001018724-17-000011-index.htm\">Link</a></td>\n",
              "      <td><a target=\"_blank\" href=\"https://www.sec.gov/Archives/edgar/data/1018724/000101872417000011/amzn-20161231.xml\">Link</a></td>\n",
              "    </tr>\n",
              "    <tr>\n",
              "      <th>4</th>\n",
              "      <td>10-K</td>\n",
              "      <td>2016-01-29</td>\n",
              "      <td><a target=\"_blank\" href=\"https://www.sec.gov/Archives/edgar/data/1018724/000101872416000172/0001018724-16-000172-index.htm\">Link</a></td>\n",
              "      <td><a target=\"_blank\" href=\"https://www.sec.gov/Archives/edgar/data/1018724/000101872416000172/amzn-20151231.xml\">Link</a></td>\n",
              "    </tr>\n",
              "  </tbody>\n",
              "</table>"
            ],
            "text/plain": [
              "<IPython.core.display.HTML object>"
            ]
          },
          "metadata": {
            "tags": []
          }
        }
      ]
    },
    {
      "cell_type": "code",
      "metadata": {
        "id": "YIas3hH7gmao",
        "colab_type": "code",
        "colab": {}
      },
      "source": [
        "dataMod['soup'] = data.XML.apply(get_soup)"
      ],
      "execution_count": 0,
      "outputs": []
    },
    {
      "cell_type": "code",
      "metadata": {
        "id": "uWYjaMUZg2lP",
        "colab_type": "code",
        "colab": {
          "base_uri": "https://localhost:8080/",
          "height": 1000
        },
        "outputId": "ed4fb0fe-c6df-4be4-c155-c035f6727bd9"
      },
      "source": [
        "list(set([i.name for i in dataMod.soup.iloc[0].find_all()]))"
      ],
      "execution_count": 27,
      "outputs": [
        {
          "output_type": "execute_result",
          "data": {
            "text/plain": [
              "['us-gaap:deferredincometaxexpensebenefit',\n",
              " 'us-gaap:othercommitmentdueinfourthyear',\n",
              " 'us-gaap:incometaxreconciliationtaxcredits',\n",
              " 'us-gaap:deferredtaxassetstaxdeferredexpensecompensationandbenefitssharebasedcompensationcost',\n",
              " 'us-gaap:netincomeloss',\n",
              " 'us-gaap:compensationrelatedcostspolicytextblock',\n",
              " 'us-gaap:financeleaserightofuseassetamortization',\n",
              " 'us-gaap:weightedaveragenumberofdilutedsharesoutstanding',\n",
              " 'us-gaap:assets',\n",
              " 'amzn:sharebasedcompensationarrangementbysharebasedpaymentawardequityinstrumentsotherthanoptionsvestingnexttwelvemonths',\n",
              " 'dei:entityaddresspostalzipcode',\n",
              " 'amzn:financingobligationsfutureminimumpaymentsdueinthreeyears',\n",
              " 'us-gaap:netcashprovidedbyusedinfinancingactivities',\n",
              " 'amzn:financeleaserightofuseassetaccumulatedamortization',\n",
              " 'us-gaap:longtermdebtcurrent',\n",
              " 'us-gaap:employeeservicesharebasedcompensationtaxbenefitfromcompensationexpense',\n",
              " 'us-gaap:capitalleasedassetsgross',\n",
              " 'us-gaap:othercomprehensiveincomelossforeigncurrencytransactionandtranslationadjustmentnetoftax',\n",
              " 'us-gaap:equitysecuritiesfvniunrealizedgainloss',\n",
              " 'amzn:sharebasedcompensationarrangementbysharebasedpaymentawardfairvalueassumptionsforfeiturerate',\n",
              " 'us-gaap:scheduleofdeferredtaxassetsandliabilitiestabletextblock',\n",
              " 'us-gaap:debtinstrumentunamortizeddiscountpremiumnet',\n",
              " 'us-gaap:currentstateandlocaltaxexpensebenefit',\n",
              " 'us-gaap:stockholdersequity',\n",
              " 'us-gaap:financeleaseliability',\n",
              " 'us-gaap:unrecognizedtaxbenefitsthatwouldimpacteffectivetaxrate',\n",
              " 'amzn:othernonoperatingincomeandexpensepolicypolicytextblock',\n",
              " 'us-gaap:cashandcashequivalentspolicytextblock',\n",
              " 'us-gaap:lesseeleasespolicytextblock',\n",
              " 'us-gaap:employeeservicesharebasedcompensationnonvestedawardstotalcompensationcostnotyetrecognizedperiodforrecognition1',\n",
              " 'us-gaap:sharebasedcompensationarrangementbysharebasedpaymentawardequityinstrumentsotherthanoptionsforfeitedinperiod',\n",
              " 'amzn:financeleasecost',\n",
              " 'us-gaap:contractwithcustomerliability',\n",
              " 'us-gaap:stockissuedduringperiodsharesstockoptionsexercised',\n",
              " 'dei:entityshellcompany',\n",
              " 'amzn:interestpaidfinancingobligations',\n",
              " 'dei:security12btitle',\n",
              " 'us-gaap:availableforsalesecuritiesdebtmaturitiesafterfivethroughtenyearsfairvalue',\n",
              " 'us-gaap:impairmentordisposaloflonglivedassetspolicytextblock',\n",
              " 'us-gaap:contractualobligationdueinfourthyear',\n",
              " 'amzn:interestpaidonlongtermdebt',\n",
              " 'us-gaap:fairvalueoffinancialinstrumentspolicy',\n",
              " 'us-gaap:sharebasedcompensationarrangementbysharebasedpaymentawardequityinstrumentsotherthanoptionsvestedinperiod',\n",
              " 'us-gaap:increasedecreaseinaccountspayable',\n",
              " 'us-gaap:repaymentsofdebt',\n",
              " 'us-gaap:equitysecuritieswithoutreadilydeterminablefairvalueamount',\n",
              " 'amzn:lesseeoperatingandfinanceleasestextblock',\n",
              " 'us-gaap:commonstocksharesauthorized',\n",
              " 'us-gaap:unrecognizedtaxbenefits',\n",
              " 'amzn:longtermdebtmaturitiesrepaymentsofprincipalandinterestinyeartwo',\n",
              " 'amzn:otherassetsnoncurrentpolicypolicytextblock',\n",
              " 'us-gaap:cumulativeeffectofnewaccountingprincipleinperiodofadoption',\n",
              " 'us-gaap:availableforsaledebtsecuritiesamortizedcostbasis',\n",
              " 'amzn:sharebasedcompensationarrangementbysharebasedpaymentawardequityinstrumentsotherthanoptionsvestingyearfive',\n",
              " 'us-gaap:longtermdebtmaturitiesrepaymentsofprincipalinyearfour',\n",
              " 'us-gaap:marketingexpense',\n",
              " 'amzn:repaymentsoflongtermfinancingobligations',\n",
              " 'dei:tradingsymbol',\n",
              " 'us-gaap:debtsecuritiesavailableforsalerealizedloss',\n",
              " 'us-gaap:deferredtaxliabilities',\n",
              " 'us-gaap:debtinstrumentinterestratestatedpercentage',\n",
              " 'amzn:lesseeoperatingandfinanceleasetermofcontract',\n",
              " 'us-gaap:operatingleaseweightedaverageremainingleaseterm1',\n",
              " 'amzn:cashcashequivalentsandmarketablesecurities',\n",
              " 'us-gaap:generalandadministrativeexpense',\n",
              " 'us-gaap:unrecordedunconditionalpurchaseobligationbalanceonsecondanniversary',\n",
              " 'measure',\n",
              " 'us-gaap:incometaxespaidnet',\n",
              " 'us-gaap:unrecordedunconditionalpurchaseobligationbalanceonfifthanniversary',\n",
              " 'us-gaap:sharebasedcompensationarrangementbysharebasedpaymentawardequityinstrumentsotherthanoptionsgrantsinperiod',\n",
              " 'us-gaap:contractualobligationdueinthirdyear',\n",
              " 'us-gaap:availableforsalesecuritiesdebtmaturitieswithinoneyearamortizedcost',\n",
              " 'us-gaap:investmentincomeinterest',\n",
              " 'us-gaap:employeerelatedliabilitiescurrentandnoncurrent',\n",
              " 'dei:entityincorporationstatecountrycode',\n",
              " 'us-gaap:commonstockparorstatedvaluepershare',\n",
              " 'us-gaap:rightofuseassetobtainedinexchangeforfinanceleaseliability',\n",
              " 'us-gaap:deferredtaxassetsoperatinglosscarryforwardsdomestic',\n",
              " 'us-gaap:financeleaseliabilitynoncurrent',\n",
              " 'dei:amendmentflag',\n",
              " 'us-gaap:comprehensiveincomenetoftax',\n",
              " 'us-gaap:sharesoutstanding',\n",
              " 'us-gaap:increasedecreaseincontractwithcustomerliability',\n",
              " 'amzn:businesscombinationrecognizedidentifiableassetsacquiredandliabilitiesassumedliabilitiesother',\n",
              " 'us-gaap:earningspersharediluted',\n",
              " 'us-gaap:deferredstateandlocalincometaxexpensebenefit',\n",
              " 'amzn:financingobligationsfutureminimumpaymentsdueinfouryears',\n",
              " 'amzn:deferredtaxassetsoperatingleaseliabilities',\n",
              " 'us-gaap:operatingleasesfutureminimumpaymentsduecurrent',\n",
              " 'us-gaap:deferredtaxliabilitiespropertyplantandequipment',\n",
              " 'us-gaap:fairvalueassetsmeasuredonrecurringbasistextblock',\n",
              " 'us-gaap:operatingleasecost',\n",
              " 'us-gaap:lineofcredit',\n",
              " 'us-gaap:othercomprehensiveincomeforeigncurrencytranslationgainlossarisingduringperiodtax',\n",
              " 'amzn:leaseliability',\n",
              " 'us-gaap:businesscombinationconsiderationtransferredliabilitiesincurred',\n",
              " 'us-gaap:othercommitmentdueafterfifthyear',\n",
              " 'us-gaap:scheduleofsegmentreportinginformationbysegmenttextblock',\n",
              " 'us-gaap:sharebasedcompensationarrangementbysharebasedpaymentawardequityinstrumentsotherthanoptionsforfeituresweightedaveragegrantdatefairvalue',\n",
              " 'us-gaap:propertyplantandequipmenttextblock',\n",
              " 'amzn:videoandmusiccontentpolicypolicytextblock',\n",
              " 'period',\n",
              " 'us-gaap:proceedsfromissuanceoflongtermdebt',\n",
              " 'us-gaap:unrecordedunconditionalpurchaseobligationbalanceonthirdanniversary',\n",
              " 'us-gaap:rightofuseassetobtainedinexchangeforoperatingleaseliability',\n",
              " 'us-gaap:increasedecreaseinaccruedliabilitiesandotheroperatingliabilities',\n",
              " 'us-gaap:longtermdebt',\n",
              " 'dei:entitypublicfloat',\n",
              " 'us-gaap:operatingleaseweightedaveragediscountratepercent',\n",
              " 'amzn:financingobligationsfutureminimumpaymentsdue',\n",
              " 'us-gaap:commercialpaper',\n",
              " 'us-gaap:businesscombinationrecognizedidentifiableassetsacquiredgoodwillandliabilitiesassumednet',\n",
              " 'amzn:leaseliabilitycurrent',\n",
              " 'us-gaap:disaggregationofrevenuetabletextblock',\n",
              " 'us-gaap:finitelivedintangibleassetsamortizationexpensenexttwelvemonths',\n",
              " 'us-gaap:leasecosttabletextblock',\n",
              " 'us-gaap:goodwill',\n",
              " 'us-gaap:scheduleofquarterlyfinancialinformationtabletextblock',\n",
              " 'us-gaap:scheduleofdebtinstrumentstextblock',\n",
              " 'us-gaap:cash',\n",
              " 'amzn:financeleasesfutureminimumpaymentsduenexttwelvemonths',\n",
              " 'us-gaap:operatingleaseliabilitynoncurrent',\n",
              " 'link:schemaref',\n",
              " 'us-gaap:businesscombinationrecognizedidentifiableassetsacquiredandliabilitiesassumedintangibles',\n",
              " 'us-gaap:revenuerecognitionpolicytextblock',\n",
              " 'us-gaap:priorperiodreclassificationadjustmentdescription',\n",
              " 'amzn:financingobligationsreclassifiedtooperatingleases',\n",
              " 'us-gaap:sharebasedcompensationarrangementbysharebasedpaymentawardequityinstrumentsotherthanoptionsvestedinperiodtotalfairvalue',\n",
              " 'us-gaap:revenueremainingperformanceobligationexpectedtimingofsatisfactionperiod1',\n",
              " 'us-gaap:deferredtaxassetstaxdeferredexpensereservesandaccruals',\n",
              " 'us-gaap:derivativegainlossonderivativenet',\n",
              " 'us-gaap:scheduleofmaturitiesoflongtermdebttabletextblock',\n",
              " 'amzn:leaseliabilitypaymentsdue',\n",
              " 'us-gaap:othercomprehensiveincomeunrealizedholdinggainlossonsecuritiesarisingduringperiodtax',\n",
              " 'us-gaap:retainedearningsaccumulateddeficit',\n",
              " 'us-gaap:investmentsclassifiedbycontractualmaturitydatetabletextblock',\n",
              " 'us-gaap:accountspayablecurrent',\n",
              " 'us-gaap:propertyplantandequipmentnet',\n",
              " 'us-gaap:commonstocksharesissued',\n",
              " 'us-gaap:availableforsalesecuritiesdebtmaturitiessinglematuritydateamortizedcostbasis',\n",
              " 'us-gaap:sharebasedcompensationarrangementbysharebasedpaymentawardequityinstrumentsotherthanoptionsnonvestedweightedaveragegrantdatefairvalue',\n",
              " 'us-gaap:unrecognizedtaxbenefitsdecreasesresultingfrompriorperiodtaxpositions',\n",
              " 'us-gaap:operatingleasesfutureminimumpaymentsdueinfouryears',\n",
              " 'us-gaap:costsandexpenses',\n",
              " 'us-gaap:nonoperatingincomeexpense',\n",
              " 'us-gaap:foreigncurrencytransactionsandtranslationspolicytextblock',\n",
              " 'us-gaap:scheduleofrecognizedidentifiedassetsacquiredandliabilitiesassumedtabletextblock',\n",
              " 'us-gaap:debtinstrumentcollateralamount',\n",
              " 'us-gaap:longtermdebtmaturitiesrepaymentsofprincipalinyearthree',\n",
              " 'us-gaap:othercommitmentdueinnexttwelvemonths',\n",
              " 'us-gaap:provisionfordoubtfulaccounts',\n",
              " 'us-gaap:unrecognizedtaxbenefitsdecreasesresultingfromsettlementswithtaxingauthorities',\n",
              " 'us-gaap:finitelivedintangibleassetsamortizationexpenseyeartwo',\n",
              " 'us-gaap:revenuefromexternalcustomersbygeographicareastabletextblock',\n",
              " 'us-gaap:accumulatedothercomprehensiveincomelossnetoftax',\n",
              " 'us-gaap:businesscombinationrecognizedidentifiableassetsacquiredandliabilitiesassumednoncurrentliabilitieslongtermdebt',\n",
              " 'us-gaap:financeleaseinterestexpense',\n",
              " 'us-gaap:otherliabilitiesnoncurrent',\n",
              " 'us-gaap:unrecognizedtaxbenefitsreductionsresultingfromlapseofapplicablestatuteoflimitations',\n",
              " 'us-gaap:segmentreportingpolicypolicytextblock',\n",
              " 'us-gaap:sharebasedcompensationarrangementbysharebasedpaymentawardequityinstrumentsotherthanoptionsvestedinperiodweightedaveragegrantdatefairvalue',\n",
              " 'us-gaap:otheroperatingactivitiescashflowstatement',\n",
              " 'us-gaap:summaryofincometaxcontingenciestextblock',\n",
              " 'amzn:longtermdebtmaturitiesrepaymentsofprincipalandinterestinyearfive',\n",
              " 'amzn:sharebasedcompensationarrangementbysharebasedpaymentawardequityinstrumentsotherthanoptionsvestingyearthree',\n",
              " 'us-gaap:treasurystockvalue',\n",
              " 'us-gaap:availableforsaledebtsecuritiesaccumulatedgrossunrealizedlossbeforetax',\n",
              " 'amzn:longtermdebtmaturitiesrepaymentsofprincipalandinterestinyearfour',\n",
              " 'amzn:financingobligationsfutureminimumpaymentsdueinfiveyears',\n",
              " 'us-gaap:preferredstockparorstatedvaluepershare',\n",
              " 'us-gaap:operatingleaseliabilitycurrent',\n",
              " 'us-gaap:valuationallowancedeferredtaxassetchangeinamount',\n",
              " 'amzn:videoandmusiccontentexpense',\n",
              " 'us-gaap:stockrepurchaseprogramauthorizedamount1',\n",
              " 'amzn:financingobligationsfutureminimumpaymentsdueintwoyears',\n",
              " 'us-gaap:operatingleasesfutureminimumpaymentsduethereafter',\n",
              " 'us-gaap:financeleaseweightedaverageremainingleaseterm1',\n",
              " 'instant',\n",
              " 'us-gaap:liabilitiescurrent',\n",
              " 'us-gaap:additionalpaidincapital',\n",
              " 'us-gaap:finitelivedintangibleassetusefullife',\n",
              " 'dei:entitycurrentreportingstatus',\n",
              " 'us-gaap:scheduleofincomebeforeincometaxdomesticandforeigntabletextblock',\n",
              " 'us-gaap:contractwithcustomerliabilitycurrent',\n",
              " 'us-gaap:deferredtaxassetspropertyplantandequipment',\n",
              " 'us-gaap:contractualobligation',\n",
              " 'us-gaap:consolidationpolicytextblock',\n",
              " 'us-gaap:othercomprehensiveincomelossreclassificationadjustmentfromaociforsaleofsecuritiestax',\n",
              " 'us-gaap:foreigncurrencytransactiongainlossbeforetax',\n",
              " 'dei:entityregistrantname',\n",
              " 'us-gaap:scheduleofcompensationcostforsharebasedpaymentarrangementsallocationofsharebasedcompensationcostsbyplantabletextblock',\n",
              " 'us-gaap:incometaxexpensebenefit',\n",
              " 'us-gaap:cashcashequivalentsrestrictedcashandrestrictedcashequivalentsperiodincreasedecreaseincludingexchangerateeffect',\n",
              " 'us-gaap:capitalleasesfutureminimumpaymentsduecurrent',\n",
              " 'us-gaap:financeleaseweightedaveragediscountratepercent',\n",
              " 'us-gaap:restrictedcashandinvestments',\n",
              " 'us-gaap:amortizationofintangibleassets',\n",
              " 'amzn:reconciliationofcashcashequivalentsandrestrictedcashtabletextblock',\n",
              " 'us-gaap:stockissuedduringperiodvalueemployeebenefitplan',\n",
              " 'us-gaap:availableforsalesecuritiesdebtsecurities',\n",
              " 'us-gaap:unrecognizedtaxbenefitsincometaxpenaltiesandinterestexpense',\n",
              " 'us-gaap:intangibleassetsnetexcludinggoodwill',\n",
              " 'us-gaap:incometaxexaminationestimateofpossibleloss',\n",
              " 'amzn:leaseliabilitynoncurrent',\n",
              " 'us-gaap:othercommitmentdueinsecondyear',\n",
              " 'us-gaap:allocatedsharebasedcompensationexpense',\n",
              " 'amzn:capitalizedfilmcosts',\n",
              " 'us-gaap:internalusesoftwarepolicy',\n",
              " 'us-gaap:othercomprehensiveincomeunrealizedholdinggainlossonsecuritiesarisingduringperiodnetoftax',\n",
              " 'unitdenominator',\n",
              " 'us-gaap:accruedliabilitiesforunredeeemedgiftcards',\n",
              " 'amzn:technologyandcontentexpensespolicypolicytextblock',\n",
              " 'dei:entitytaxidentificationnumber',\n",
              " 'us-gaap:othercomprehensiveincomeforeigncurrencytransactionandtranslationgainlossarisingduringperiodnetoftax',\n",
              " 'us-gaap:reconciliationofassetsfromsegmenttoconsolidatedtextblock',\n",
              " 'us-gaap:financeleaseinterestpaymentonliability',\n",
              " 'us-gaap:variableleasecost',\n",
              " 'us-gaap:increasedecreaseininventories',\n",
              " 'dei:documentfiscalperiodfocus',\n",
              " 'amzn:financingobligationspolicytextblock',\n",
              " 'us-gaap:capitalleasesfutureminimumpaymentsdueinthreeyears',\n",
              " 'enddate',\n",
              " 'us-gaap:depreciation',\n",
              " 'us-gaap:sharebasedcompensationarrangementbysharebasedpaymentawardequityinstrumentsotherthanoptionsgrantsinperiodweightedaveragegrantdatefairvalue',\n",
              " 'us-gaap:accruedliabilitiescurrent',\n",
              " 'us-gaap:finitelivedintangibleassetsamortizationexpenseyearfive',\n",
              " 'us-gaap:longtermdebtnoncurrent',\n",
              " 'us-gaap:longtermdebtfairvalue',\n",
              " 'us-gaap:incometaxreconciliationforeignincometaxratedifferential',\n",
              " 'amzn:cashcashequivalentsandmarketablesecuritiesexcludingrestrictedcashandinvestments',\n",
              " 'us-gaap:othernoncashincomeexpense',\n",
              " 'us-gaap:propertyplantandequipmentpolicytextblock',\n",
              " 'dei:entityinteractivedatacurrent',\n",
              " 'us-gaap:marketablesecuritiescurrent',\n",
              " 'us-gaap:goodwillacquiredduringperiod',\n",
              " 'us-gaap:lesseeoperatingleaseliabilityundiscountedexcessamount',\n",
              " 'us-gaap:deferredforeignincometaxexpensebenefit',\n",
              " 'us-gaap:availableforsalesecuritiesdebtmaturitiesafterfivethroughtenyearsamortizedcost',\n",
              " 'dei:securityexchangename',\n",
              " 'dei:currentfiscalyearenddate',\n",
              " 'amzn:leaseliabilityundiscountedexcessamount',\n",
              " 'us-gaap:operatingincomeloss',\n",
              " 'us-gaap:incometaxdisclosuretextblock',\n",
              " 'us-gaap:translationadjustmentfunctionaltoreportingcurrencyincreasedecreasegrossoftax',\n",
              " 'us-gaap:propertyplantandequipmentgross',\n",
              " 'us-gaap:capitalleaseobligationsincurred',\n",
              " 'us-gaap:interestexpense',\n",
              " 'us-gaap:longtermdebtweightedaverageinterestrate',\n",
              " 'xbrldi:explicitmember',\n",
              " 'us-gaap:othercommitment',\n",
              " 'us-gaap:incomelossfromcontinuingoperationsbeforeincometaxesminorityinterestandincomelossfromequitymethodinvestments',\n",
              " 'us-gaap:availableforsalesecuritiesdebtmaturitiesaftertenyearsamortizedcost',\n",
              " 'us-gaap:deferredtaxassetsgross',\n",
              " 'us-gaap:acquiredfinitelivedintangibleassetsweightedaverageusefullife',\n",
              " 'startdate',\n",
              " 'us-gaap:leasecost',\n",
              " 'amzn:commercialpapermaximumborrowingcapacity',\n",
              " 'us-gaap:operatinglosscarryforwards',\n",
              " 'us-gaap:quarterlyfinancialinformationtextblock',\n",
              " 'us-gaap:investmentpolicytextblock',\n",
              " 'us-gaap:finitelivedintangibleassetsnet',\n",
              " 'us-gaap:commonstockcapitalsharesreservedforfutureissuance',\n",
              " 'dei:entitycentralindexkey',\n",
              " 'us-gaap:revenues',\n",
              " 'us-gaap:deferredtaxliabilitiesother',\n",
              " 'us-gaap:financeleaseliabilitycurrent',\n",
              " 'us-gaap:scheduleofeffectiveincometaxratereconciliationtabletextblock',\n",
              " 'us-gaap:earningspersharepolicytextblock',\n",
              " 'us-gaap:cashequivalentsatcarryingvalue',\n",
              " 'us-gaap:propertyplantandequipmentusefullife',\n",
              " 'us-gaap:paymentstoacquireproductiveassets',\n",
              " 'us-gaap:useofestimates',\n",
              " 'us-gaap:financeleaseliabilitypaymentsdue',\n",
              " 'us-gaap:lineofcreditfacilityunusedcapacitycommitmentfeepercentage',\n",
              " 'dei:localphonenumber',\n",
              " 'dei:entitycommonstocksharesoutstanding',\n",
              " 'xbrl',\n",
              " 'srt:contractualobligationfiscalyearmaturityscheduletabletextblock',\n",
              " 'us-gaap:scheduleofnonvestedrestrictedstockunitsactivitytabletextblock',\n",
              " 'us-gaap:contractwithcustomerliabilityrevenuerecognized',\n",
              " 'us-gaap:propertyplantandequipmentadditions',\n",
              " 'amzn:lineofcreditfacilityadditionalterm',\n",
              " 'us-gaap:commonstockvalue',\n",
              " 'us-gaap:commitmentsandcontingenciesdisclosuretextblock',\n",
              " 'us-gaap:incomelossfromcontinuingoperationsbeforeincometaxesforeign',\n",
              " 'us-gaap:paymentstoacquirebusinessesnetofcashacquired',\n",
              " 'us-gaap:availableforsalesecuritiesdebtmaturitiesaftertenyearsfairvalue',\n",
              " 'dei:entityemerginggrowthcompany',\n",
              " 'dei:entityaddressaddressline1',\n",
              " 'amzn:operatingandfinanceleaseliabilityreconciliationtabletextblock',\n",
              " 'dei:documentperiodenddate',\n",
              " 'us-gaap:unrecognizedtaxbenefitsincometaxpenaltiesandinterestaccrued',\n",
              " 'us-gaap:inventorynet',\n",
              " 'us-gaap:unrecordedunconditionalpurchaseobligationbalanceonfourthanniversary',\n",
              " 'amzn:technologyandcontentexpense',\n",
              " 'us-gaap:currentforeigntaxexpensebenefit',\n",
              " 'us-gaap:longlivedassetsbygeographicareastabletextblock',\n",
              " 'us-gaap:intangibleassetsgrossexcludinggoodwill',\n",
              " 'dei:entitysmallbusiness',\n",
              " 'us-gaap:incometaxreconciliationincometaxexpensebenefitatfederalstatutoryincometaxrate',\n",
              " 'us-gaap:preferredstocksharesauthorized',\n",
              " 'us-gaap:sharebasedcompensationarrangementbysharebasedpaymentawardawardvestingperiod1',\n",
              " 'us-gaap:commitmentsandcontingencies',\n",
              " 'us-gaap:businesscombinationrecognizedidentifiableassetsacquiredandliabilitiesassumedpropertyplantandequipment',\n",
              " 'dei:entityfilenumber',\n",
              " 'us-gaap:goodwilltranslationandpurchaseaccountingadjustments',\n",
              " 'us-gaap:othernonoperatingincomeexpense',\n",
              " 'us-gaap:leaseandrentalexpense',\n",
              " 'us-gaap:losscontingencynewclaimsfilednumber',\n",
              " 'us-gaap:othercomprehensiveincomelossnetoftax',\n",
              " 'us-gaap:equitysecuritiesfvnigainloss',\n",
              " 'amzn:buildtosuitliabilitiesderecognized',\n",
              " 'us-gaap:debtinstrumentcarryingamount',\n",
              " 'us-gaap:advertisingexpense',\n",
              " 'us-gaap:othercommitmentdueinthirdyear',\n",
              " 'us-gaap:netcashprovidedbyusedininvestingactivities',\n",
              " 'us-gaap:reconciliationofothersignificantreconcilingitemsfromsegmentstoconsolidatedtextblock',\n",
              " 'amzn:equitysecuritiesfvnianddebtsecuritiesavailableforsaleaccumulatedgrossunrealizedgainbeforetax',\n",
              " 'amzn:propertyandequipmentobtainedinexchangeforfinancingobligations',\n",
              " 'amzn:fulfillmentexpensespolicypolicytextblock',\n",
              " 'amzn:longtermdebtmaturitiesrepaymentsofprincipalandinterestinyearthree',\n",
              " 'us-gaap:debtinstrumentinterestrateeffectivepercentage',\n",
              " 'dei:entityfilercategory',\n",
              " 'us-gaap:finitelivedintangibleassetsaccumulatedamortization',\n",
              " 'us-gaap:valuationallowancesandreservesdeductions',\n",
              " 'amzn:cashcashequivalentsandmarketablesecuritiesamortizedcostbasis',\n",
              " 'us-gaap:incometaxreconciliationnondeductibleexpensesharebasedcompensationcost',\n",
              " 'us-gaap:financeleaserightofuseasset',\n",
              " 'us-gaap:othercomprehensiveincomelossavailableforsalesecuritiesadjustmentnetoftax',\n",
              " 'us-gaap:businesscombinationrecognizedidentifiableassetsacquiredandliabilitiesassumeddeferredtaxliabilities',\n",
              " 'us-gaap:businesscombinationrecognizedidentifiableassetsacquiredandliabilitiesassumeddeferredtaxassets',\n",
              " 'dei:documentfiscalyearfocus',\n",
              " 'us-gaap:contractwithcustomerliabilitynoncurrent',\n",
              " 'us-gaap:stockrepurchasedduringperiodvalue',\n",
              " 'us-gaap:receivablespolicytextblock',\n",
              " 'us-gaap:othercomprehensiveincomelossreclassificationadjustmentfromaociforsaleofsecuritiesnetoftax',\n",
              " 'us-gaap:contractwithcustomerrighttorecoverproduct',\n",
              " 'amzn:revenuefromcontractwithcustomercontractliabilitypolicytextblock',\n",
              " 'us-gaap:deferredtaxassetsoperatinglosscarryforwardsforeign',\n",
              " 'amzn:deferredtaxliabilitiesoperatingleaseassets',\n",
              " 'us-gaap:allowancefordoubtfulaccountsreceivablecurrent',\n",
              " 'us-gaap:advertisingcostspolicytextblock',\n",
              " 'amzn:sharebasedcompensationarrangementbysharebasedpaymentawardequityinstrumentsotherthanoptionsvestingyearfour',\n",
              " 'us-gaap:derivativeassets',\n",
              " 'us-gaap:financialinstrumentsdisclosuretextblock',\n",
              " 'us-gaap:operatingleaseliability',\n",
              " 'us-gaap:contractualobligationdueinfifthyear',\n",
              " 'us-gaap:accumulateddepreciationdepletionandamortizationpropertyplantandequipment',\n",
              " 'us-gaap:operatingleaserightofuseasset',\n",
              " 'us-gaap:longtermdebtmaturitiesrepaymentsofprincipalinyearfive',\n",
              " 'amzn:businesscombinationrecognizedidentifiableassetsacquiredandliabilitiesassumedotherassets',\n",
              " 'us-gaap:unrecordedunconditionalpurchaseobligationbalancesheetamount',\n",
              " 'dei:entityvoluntaryfilers',\n",
              " 'us-gaap:deferredtaxassetsother',\n",
              " 'us-gaap:businesscombinationconsiderationtransferred1',\n",
              " 'dei:entityaddresscityortown',\n",
              " 'us-gaap:effectiveincometaxratereconciliationtaxcutsandjobsactof2017amount',\n",
              " 'us-gaap:revenueremainingperformanceobligation',\n",
              " 'us-gaap:scheduleofweightedaveragenumberofsharestabletextblock',\n",
              " 'us-gaap:stockissuedduringperiodvaluestockoptionsexercised',\n",
              " 'us-gaap:availableforsalesecuritiesdebtmaturitieswithinoneyearfairvalue',\n",
              " 'us-gaap:contractualobligationdueafterfifthyear',\n",
              " 'amzn:taxcutsandjobsactof2017provisionalincometaxbenefit',\n",
              " 'us-gaap:capitalleasesfutureminimumpaymentsdueinfiveyears',\n",
              " 'identifier',\n",
              " 'us-gaap:deferredtaxassetstaxcreditcarryforwards',\n",
              " 'us-gaap:accountsreceivablenetcurrent',\n",
              " 'us-gaap:costofgoodsandservicessold',\n",
              " 'amzn:netchangeincashcashequivalentsandrestrictedcash',\n",
              " 'us-gaap:unrecordedunconditionalpurchaseobligationbalanceonfirstanniversary',\n",
              " 'us-gaap:increasedecreaseinaccountsreceivableandotheroperatingassets',\n",
              " 'segment',\n",
              " 'us-gaap:unrecognizedtaxbenefitsincreasesresultingfromcurrentperiodtaxpositions',\n",
              " 'us-gaap:revenuefromcontractwithcustomerexcludingassessedtax',\n",
              " 'us-gaap:scheduleofnewaccountingpronouncementsandchangesinaccountingprinciplestextblock',\n",
              " 'us-gaap:debtinstrumentbasisspreadonvariablerate1',\n",
              " 'us-gaap:scheduleofcomponentsofincometaxexpensebenefittabletextblock',\n",
              " 'us-gaap:cashandcashequivalentsatcarryingvalue',\n",
              " 'dei:cityareacode',\n",
              " 'us-gaap:operatingleasesfutureminimumpaymentsdueinfiveyears',\n",
              " 'us-gaap:otherrestrictedassetscurrent',\n",
              " 'amzn:sharebasedcompensationarrangementbysharebasedpaymentawardequityinstrumentsotherthanoptionsvestingafteryearfive',\n",
              " 'us-gaap:earningspersharebasic',\n",
              " 'amzn:lineofcreditfacilitynumberofextensions',\n",
              " 'us-gaap:valuationallowancesandreserveschargedtocostandexpense',\n",
              " 'dei:documenttype',\n",
              " 'amzn:weightedaveragelifecapitalizedvideocontent',\n",
              " 'us-gaap:financeleaseliabilityundiscountedexcessamount',\n",
              " 'us-gaap:netcashprovidedbyusedinoperatingactivities',\n",
              " 'us-gaap:commonstocksharesoutstanding',\n",
              " 'us-gaap:incometaxpolicytextblock',\n",
              " 'us-gaap:weightedaveragenumberofsharesoutstandingbasic',\n",
              " 'us-gaap:paymentstoacquiremarketablesecurities',\n",
              " 'us-gaap:debtsecuritiesavailableforsalerealizedgain',\n",
              " 'us-gaap:finitelivedintangibleassetsamortizationexpenseyearfour',\n",
              " 'us-gaap:cashcashequivalentsrestrictedcashandrestrictedcashequivalents',\n",
              " 'us-gaap:allowancefordoubtfulaccountsreceivablewriteoffs',\n",
              " 'amzn:proceedsfromrebatesonpurchasesofproductiveassets',\n",
              " 'us-gaap:newaccountingpronouncementorchangeinaccountingprinciplecumulativeeffectofchangeonequityornetassets1',\n",
              " 'unitnumerator',\n",
              " 'us-gaap:segmentreportingdisclosuretextblock',\n",
              " 'us-gaap:assetscurrent',\n",
              " 'dei:entityaddressstateorprovince',\n",
              " 'amzn:othercomprehensiveincomelossforeigncurrencytransactionandtranslationreclassficationadjustmentfromaocinetoftax',\n",
              " 'us-gaap:equitysecuritiesfvni',\n",
              " 'us-gaap:finitelivedintangibleassetsamortizationexpenseyearthree',\n",
              " 'entity',\n",
              " 'us-gaap:depreciationdepletionandamortization',\n",
              " 'us-gaap:longtermdebtmaturitiesrepaymentsofprincipalinyeartwo',\n",
              " 'amzn:accruedexpensesandotherpolicypolicytextblock',\n",
              " 'us-gaap:longtermdebtmaturitiesrepaymentsofprincipalinnexttwelvemonths',\n",
              " 'amzn:longtermdebtmaturitiesrepaymentsofprincipalandinterestafteryearfive',\n",
              " 'us-gaap:deferredtaxassetsnet',\n",
              " 'us-gaap:unrecognizedtaxbenefitsincreasesresultingfrompriorperiodtaxpositions',\n",
              " 'us-gaap:othercommitmentdueinfifthyear',\n",
              " 'divide',\n",
              " 'us-gaap:inventorypolicytextblock',\n",
              " 'us-gaap:sharebasedcompensationarrangementbysharebasedpaymentawardequityinstrumentsotherthanoptionsnonvestednumber',\n",
              " 'us-gaap:scheduleoffinitelivedintangibleassetsfutureamortizationexpensetabletextblock',\n",
              " 'us-gaap:longtermdebtmaturitiesrepaymentsofprincipalafteryearfive',\n",
              " 'us-gaap:taxcreditcarryforwardamount',\n",
              " 'amzn:otherlongtermliabilitiespolicytextblock',\n",
              " 'us-gaap:goodwillimpairmentloss',\n",
              " 'us-gaap:scheduleofsharebasedcompensationarrangementbysharebasedpaymentawardrestrictedstockunitsvestedandexpectedtovesttabletextblock',\n",
              " 'us-gaap:restrictedcashcurrent',\n",
              " 'us-gaap:preferredstocksharesoutstanding',\n",
              " 'us-gaap:capitalleasesincomestatementamortizationexpense',\n",
              " 'amzn:longtermdebtmaturitiesrepaymentsofprincipalandinterestinnexttwelvemonths',\n",
              " 'us-gaap:operatingleasepayments',\n",
              " 'amzn:fulfillmentexpense',\n",
              " 'us-gaap:sharebasedcompensation',\n",
              " 'us-gaap:incrementalcommonsharesattributabletosharebasedpaymentarrangements',\n",
              " 'us-gaap:currentfederaltaxexpensebenefit',\n",
              " 'amzn:financingobligationsandconstructionliabilities',\n",
              " 'us-gaap:deferredtaxassetsvaluationallowance',\n",
              " 'us-gaap:restrictedcashnoncurrent',\n",
              " 'us-gaap:lineofcreditfacilitymaximumborrowingcapacity',\n",
              " 'dei:documenttransitionreport',\n",
              " 'us-gaap:deferredfederalincometaxexpensebenefit',\n",
              " 'us-gaap:liabilitiesandstockholdersequity',\n",
              " 'us-gaap:realizedgainlossoninvestmentstabletextblock',\n",
              " 'us-gaap:incometaxreconciliationotheradjustments',\n",
              " 'us-gaap:effectofexchangerateoncashandcashequivalents',\n",
              " 'amzn:otheroperatingandfinanceleaseinformationtabletextblock',\n",
              " 'us-gaap:capitalleaseslesseebalancesheetassetsbymajorclassaccumulateddeprecation',\n",
              " 'unit',\n",
              " 'us-gaap:operatingleasesfutureminimumpaymentsdueintwoyears',\n",
              " 'dei:documentannualreport',\n",
              " 'us-gaap:goodwillandintangibleassetsgoodwillpolicy',\n",
              " 'us-gaap:incomelossfromequitymethodinvestments',\n",
              " 'us-gaap:businesscombinationdisclosuretextblock',\n",
              " 'us-gaap:contractualobligationdueinnexttwelvemonths',\n",
              " 'us-gaap:availableforsalesecuritiesdebtmaturitiesafteronethroughfiveyearsfairvalue',\n",
              " 'amzn:commonstocksharesoutstandingincludingnonvestedstockawards',\n",
              " 'amzn:financingobligationsfutureminimumpaymentsdueafteryearfive',\n",
              " 'dei:entitywellknownseasonedissuer',\n",
              " 'us-gaap:debtdisclosuretextblock',\n",
              " 'context',\n",
              " 'us-gaap:organizationconsolidationbasisofpresentationbusinessdescriptionandaccountingpoliciestextblock',\n",
              " 'us-gaap:shareholdersequityandsharebasedpaymentstextblock',\n",
              " 'us-gaap:othercostandexpenseoperating',\n",
              " 'us-gaap:effectiveincometaxratereconciliationsharebasedcompensationexcesstaxbenefitamount',\n",
              " 'amzn:financingobligationsreclassifiedtofinanceleases',\n",
              " 'amzn:otheroperatingincomeandexpensepolicypolicytextblock',\n",
              " 'us-gaap:propertyplantandequipmentdisclosuretextblock',\n",
              " 'amzn:longtermdebtincludinginterest',\n",
              " 'amzn:sharebasedcompensationarrangementbysharebasedpaymentawardequityinstrumentsotherthanoptionsvestingyeartwo',\n",
              " 'amzn:interestpaidoncapitalleaseobligations',\n",
              " 'us-gaap:employeeservicesharebasedcompensationnonvestedawardstotalcompensationcostnotyetrecognized',\n",
              " 'amzn:videoandmusiccontentcapitalizedcosts',\n",
              " 'us-gaap:debtinstrumentterm',\n",
              " 'amzn:othercomprehensiveincomelossforeigncurrencytransactionandtranslationreclassficationadjustmentfromaocitax',\n",
              " 'us-gaap:numberofoperatingsegments',\n",
              " 'us-gaap:unrecordedunconditionalpurchaseobligationdueafterfiveyears',\n",
              " 'us-gaap:preferredstockvalue',\n",
              " 'us-gaap:capitalleasesfutureminimumpaymentsdueintwoyears',\n",
              " 'us-gaap:otherassetsnoncurrent',\n",
              " 'us-gaap:lesseeoperatingleaseliabilitypaymentsdue',\n",
              " 'us-gaap:scheduleofacquiredfinitelivedintangibleassetsbymajorclasstextblock',\n",
              " 'us-gaap:incomelossfromcontinuingoperationsbeforeincometaxesdomestic',\n",
              " 'us-gaap:financeleaseprincipalpayments',\n",
              " 'us-gaap:availableforsaledebtsecuritiesaccumulatedgrossunrealizedgainbeforetax',\n",
              " 'us-gaap:availableforsalesecuritiesdebtmaturitiessinglematuritydate',\n",
              " 'us-gaap:availableforsalesecuritiesdebtmaturitiesafteronethroughfiveyearsamortizedcost',\n",
              " 'us-gaap:losscontingencyestimateofpossibleloss',\n",
              " 'us-gaap:incometaxreconciliationstateandlocalincometaxes',\n",
              " 'us-gaap:capitalleasesfutureminimumpaymentsduethereafter',\n",
              " 'us-gaap:contractualobligationdueinsecondyear',\n",
              " 'us-gaap:contractwithcustomerrefundliability',\n",
              " 'us-gaap:sellinggeneralandadministrativeexpensespolicytextblock',\n",
              " 'us-gaap:operatingleasesfutureminimumpaymentsdueinthreeyears',\n",
              " 'us-gaap:scheduleofgoodwilltextblock',\n",
              " 'us-gaap:capitalleasesfutureminimumpaymentsdueinfouryears',\n",
              " 'amzn:employeeservicesharebasedcompensationnonvestedawardscompensationcostexpectedtobeexpensedinnexttwelvemonthspercentage',\n",
              " 'us-gaap:newaccountingpronouncementspolicypolicytextblock',\n",
              " 'us-gaap:finitelivedintangibleassetsamortizationexpenseafteryearfive',\n",
              " 'us-gaap:preferredstocksharesissued',\n",
              " 'us-gaap:proceedsfromsaleandmaturityofmarketablesecurities']"
            ]
          },
          "metadata": {
            "tags": []
          },
          "execution_count": 27
        }
      ]
    }
  ]
}